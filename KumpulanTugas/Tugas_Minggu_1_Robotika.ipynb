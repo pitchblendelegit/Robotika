{
  "nbformat": 4,
  "nbformat_minor": 0,
  "metadata": {
    "colab": {
      "provenance": [],
      "authorship_tag": "ABX9TyNdBUfhg87OhwuoYVndU7rr",
      "include_colab_link": true
    },
    "kernelspec": {
      "name": "python3",
      "display_name": "Python 3"
    },
    "language_info": {
      "name": "python"
    }
  },
  "cells": [
    {
      "cell_type": "markdown",
      "metadata": {
        "id": "view-in-github",
        "colab_type": "text"
      },
      "source": [
        "<a href=\"https://colab.research.google.com/github/pitchblendelegit/Robotika/blob/main/KumpulanTugas/Tugas_Minggu_1_Robotika.ipynb\" target=\"_parent\"><img src=\"https://colab.research.google.com/assets/colab-badge.svg\" alt=\"Open In Colab\"/></a>"
      ]
    },
    {
      "cell_type": "markdown",
      "source": [
        "## Hafizh Alfian Syakur\n",
        "1103201260"
      ],
      "metadata": {
        "id": "CLPDtRU8-Yd7"
      }
    },
    {
      "cell_type": "markdown",
      "source": [
        "Task 1.Introduction Python 3"
      ],
      "metadata": {
        "id": "L_cz0OhA1oy1"
      }
    },
    {
      "cell_type": "code",
      "execution_count": null,
      "metadata": {
        "id": "J-AQuBoEtp5j"
      },
      "outputs": [],
      "source": [
        "from smart_grasping_sandbox.smart_grasper import SmartGrasper\n",
        "from tf.transformations import quaternion_from_euler\n",
        "from math import pi\n",
        "import time\n",
        "\n",
        "sgs = SmartGrasper()\n",
        "\n",
        "sgs.pick()\n",
        "\n",
        "sgs.reset_world()\n",
        "\n",
        "# in terminal\n",
        "# cd /home/user/catkin_ws/src\n",
        "# ls\n",
        "# python arm_control.py"
      ]
    },
    {
      "cell_type": "markdown",
      "source": [
        "Exercise 2.2 Variables / Python Essentials"
      ],
      "metadata": {
        "id": "SFaGiwsA7A_i"
      }
    },
    {
      "cell_type": "code",
      "source": [
        "from robot_control_class import RobotControl #dari module library robot_control_class dan memanggil class robotcontrol\n",
        "\n",
        "robotcontrol = RobotControl() #mendeklarasikan class RobotControl dengan roborcontrol\n",
        "\n",
        "laser1 = robotcontrol.get_laser(0) #memanggil class dengan fungsi get.laser untuk mengambil beberapa data parameter jarak laser sejauh parameter yang diinput\n",
        "print (\"The laser value received is: \", laser1) #menyetak hasil dari data yang didapat dari laser1\n",
        "\n",
        "laser2 = robotcontrol.get_laser(360) #memanggil class dengan fungsi get.laser untuk mengambil data parameter jarak laser sejauh parameter yang diinput\n",
        "print (\"The laser value received is: \", laser2) #menyetak hasil dari data yang didapat dari laser2\n",
        "\n",
        "laser2 = robotcontrol.get_laser(719) #memanggil class dengan fungsi get.laser untuk mengambil data parameter jarak laser sejauh parameter yang diinput\n",
        "print (\"The laser value received is: \", laser2)#menyetak hasil dari data yang didapat dari laser2"
      ],
      "metadata": {
        "id": "lMVpb8VU7lmr"
      },
      "execution_count": null,
      "outputs": []
    },
    {
      "cell_type": "markdown",
      "source": [
        "Exercise 2.3 Data Types / Python Essentials"
      ],
      "metadata": {
        "id": "KFVH6pXv7zWu"
      }
    },
    {
      "cell_type": "code",
      "source": [
        "from robot_control_class import RobotControl #dari module library robot_control_class dan memanggil class robotcontrol\n",
        "\n",
        "rc = RobotControl() #mendeklarasikan class RobotControl dengan rc\n",
        "\n",
        "laser = rc.get_laser_full() #memanggil class dengan fungsi get.laser untuk mengambil semua data parameter jarak dari laser sebanyak 720 sejauh parameter yang diinput\n",
        "\n",
        "print('position 0 : ', laser[0])\n",
        "print('position 0 : ', laser[360])\n",
        "print('position 0 : ', laser[719]) #menyetak posisi hasil dari parameter laser yang diinginkan"
      ],
      "metadata": {
        "id": "g5Rt9NSD8Le3"
      },
      "execution_count": null,
      "outputs": []
    },
    {
      "cell_type": "markdown",
      "source": [
        "Exercise 2.4 Data types / Python Essentials"
      ],
      "metadata": {
        "id": "57FXMq7U8SVW"
      }
    },
    {
      "cell_type": "code",
      "source": [
        "from robot_control_class import RobotControl  #dari module library robot_control_class dan memanggil class robotcontrol\n",
        "\n",
        "rc = RobotControl() #mendeklarasikan class RobotControl dengan rc\n",
        "\n",
        "laser = rc.get_laser_full() #memanggil class dengan fungsi get.laser untuk mengambil semua data parameter jarak dari laser sebanyak 720 sejauh parameter yang diinput\n",
        "\n",
        "dict = {'P0' : laser[0], \"P100\" : laser[100], \"P200\" : laser[200], \"P300\" : laser[300], \"P400\" : laser[400], \"P500\" : laser[500], \"P600\" : laser[600], \"P719\" : laser[719]}\n",
        "#membuat list dengan dict dan diisi dengan isi dari parameter laser\n",
        "\n",
        "print(dict) #menyetak hasil dari dict"
      ],
      "metadata": {
        "id": "1uDSGamF8cIP"
      },
      "execution_count": null,
      "outputs": []
    },
    {
      "cell_type": "markdown",
      "source": [
        "Exercise 2.5 I/O / Python Essentials"
      ],
      "metadata": {
        "id": "OK2tBY388f0H"
      }
    },
    {
      "cell_type": "code",
      "source": [
        "from robot_control_class import RobotControl #dari module library robot_control_class dan memanggil class robotcontrol\n",
        "\n",
        "num = int(input('input number between 0 and 719 : ')) #mendeklarasikan num dengan input angka dari 0-720 untuk menentukan jangkauan laser\n",
        "\n",
        "rc = RobotControl() #mendeklarasikan class RobotControl dengan rc\n",
        "a = rc.get_laser(num) #memanggil fungsi get_laser untuk mengambil data dari jangkauan laser\n",
        "\n",
        "print('Nilai laser adalah : ', a) #menyetak hasil dari data yang diambil"
      ],
      "metadata": {
        "id": "MGThhVcD8p2h"
      },
      "execution_count": null,
      "outputs": []
    }
  ]
}