{
  "nbformat": 4,
  "nbformat_minor": 0,
  "metadata": {
    "colab": {
      "provenance": [],
      "authorship_tag": "ABX9TyOG2Sms7Q0cP4q2+y4JD9bL",
      "include_colab_link": true
    },
    "kernelspec": {
      "name": "python3",
      "display_name": "Python 3"
    },
    "language_info": {
      "name": "python"
    }
  },
  "cells": [
    {
      "cell_type": "markdown",
      "metadata": {
        "id": "view-in-github",
        "colab_type": "text"
      },
      "source": [
        "<a href=\"https://colab.research.google.com/github/pitchblendelegit/Robotika/blob/main/KumpulanTugas/Tugas_Minggu_1_Robotika.ipynb\" target=\"_parent\"><img src=\"https://colab.research.google.com/assets/colab-badge.svg\" alt=\"Open In Colab\"/></a>"
      ]
    },
    {
      "cell_type": "markdown",
      "source": [
        "## Hafizh Alfian Syakur\n",
        "1103201260"
      ],
      "metadata": {
        "id": "CLPDtRU8-Yd7"
      }
    },
    {
      "cell_type": "markdown",
      "source": [
        "Task 1.Introduction Python 3"
      ],
      "metadata": {
        "id": "L_cz0OhA1oy1"
      }
    },
    {
      "cell_type": "code",
      "execution_count": null,
      "metadata": {
        "id": "J-AQuBoEtp5j"
      },
      "outputs": [],
      "source": [
        "from smart_grasping_sandbox.smart_grasper import SmartGrasper\n",
        "from tf.transformations import quaternion_from_euler\n",
        "from math import pi\n",
        "import time\n",
        "\n",
        "sgs = SmartGrasper()\n",
        "\n",
        "sgs.pick()\n",
        "\n",
        "sgs.reset_world()\n",
        "\n",
        "# in terminal\n",
        "# cd /home/user/catkin_ws/src\n",
        "# ls\n",
        "# python arm_control.py"
      ]
    },
    {
      "cell_type": "markdown",
      "source": [
        "Exercise 2.2 Variables / Python Essentials"
      ],
      "metadata": {
        "id": "SFaGiwsA7A_i"
      }
    },
    {
      "cell_type": "code",
      "source": [
        "from robot_control_class import RobotControl #dari module library robot_control_class dan memanggil class robotcontrol\n",
        "\n",
        "robotcontrol = RobotControl() #mendeklarasikan class RobotControl dengan roborcontrol\n",
        "\n",
        "laser1 = robotcontrol.get_laser(0) #memanggil class dengan fungsi get.laser untuk mengambil beberapa data parameter jarak laser sejauh parameter yang diinput\n",
        "print (\"The laser value received is: \", laser1) #menyetak hasil dari data yang didapat dari laser1\n",
        "\n",
        "laser2 = robotcontrol.get_laser(360) #memanggil class dengan fungsi get.laser untuk mengambil data parameter jarak laser sejauh parameter yang diinput\n",
        "print (\"The laser value received is: \", laser2) #menyetak hasil dari data yang didapat dari laser2\n",
        "\n",
        "laser2 = robotcontrol.get_laser(719) #memanggil class dengan fungsi get.laser untuk mengambil data parameter jarak laser sejauh parameter yang diinput\n",
        "print (\"The laser value received is: \", laser2)#menyetak hasil dari data yang didapat dari laser2"
      ],
      "metadata": {
        "id": "lMVpb8VU7lmr"
      },
      "execution_count": null,
      "outputs": []
    },
    {
      "cell_type": "markdown",
      "source": [
        "Exercise 2.3 Data Types / Python Essentials"
      ],
      "metadata": {
        "id": "KFVH6pXv7zWu"
      }
    },
    {
      "cell_type": "code",
      "source": [
        "from robot_control_class import RobotControl #dari module library robot_control_class dan memanggil class robotcontrol\n",
        "\n",
        "rc = RobotControl() #mendeklarasikan class RobotControl dengan rc\n",
        "\n",
        "laser = rc.get_laser_full() #memanggil class dengan fungsi get.laser untuk mengambil semua data parameter jarak dari laser sebanyak 720 sejauh parameter yang diinput\n",
        "\n",
        "print('position 0 : ', laser[0])\n",
        "print('position 0 : ', laser[360])\n",
        "print('position 0 : ', laser[719]) #menyetak posisi hasil dari parameter laser yang diinginkan"
      ],
      "metadata": {
        "id": "g5Rt9NSD8Le3"
      },
      "execution_count": null,
      "outputs": []
    },
    {
      "cell_type": "markdown",
      "source": [
        "Exercise 2.4 Data types / Python Essentials"
      ],
      "metadata": {
        "id": "57FXMq7U8SVW"
      }
    },
    {
      "cell_type": "code",
      "source": [
        "from robot_control_class import RobotControl  #dari module library robot_control_class dan memanggil class robotcontrol\n",
        "\n",
        "rc = RobotControl() #mendeklarasikan class RobotControl dengan rc\n",
        "\n",
        "laser = rc.get_laser_full() #memanggil class dengan fungsi get.laser untuk mengambil semua data parameter jarak dari laser sebanyak 720 sejauh parameter yang diinput\n",
        "\n",
        "dict = {'P0' : laser[0], \"P100\" : laser[100], \"P200\" : laser[200], \"P300\" : laser[300], \"P400\" : laser[400], \"P500\" : laser[500], \"P600\" : laser[600], \"P719\" : laser[719]}\n",
        "#membuat list dengan dict dan diisi dengan isi dari parameter laser\n",
        "\n",
        "print(dict) #menyetak hasil dari dict"
      ],
      "metadata": {
        "id": "1uDSGamF8cIP"
      },
      "execution_count": null,
      "outputs": []
    },
    {
      "cell_type": "markdown",
      "source": [
        "Exercise 2.5 I/O / Python Essentials"
      ],
      "metadata": {
        "id": "OK2tBY388f0H"
      }
    },
    {
      "cell_type": "code",
      "source": [
        "from robot_control_class import RobotControl #dari module library robot_control_class dan memanggil class robotcontrol\n",
        "\n",
        "num = int(input('input number between 0 and 719 : ')) #mendeklarasikan num dengan input angka dari 0-720 untuk menentukan jangkauan laser\n",
        "\n",
        "rc = RobotControl() #mendeklarasikan class RobotControl dengan rc\n",
        "a = rc.get_laser(num) #memanggil fungsi get_laser untuk mengambil data dari jangkauan laser\n",
        "\n",
        "print('Nilai laser adalah : ', a) #menyetak hasil dari data yang diambil"
      ],
      "metadata": {
        "id": "MGThhVcD8p2h"
      },
      "execution_count": null,
      "outputs": []
    },
    {
      "cell_type": "markdown",
      "source": [
        "Exercise 3.1 / Conditional Statements / Conditional Statements and Loops"
      ],
      "metadata": {
        "id": "ljue0jyXBjZC"
      }
    },
    {
      "cell_type": "code",
      "source": [
        "from robot_control_class import RobotControl\n",
        "\n",
        "TestControl = RobotControl()\n",
        "\n",
        "x = TestControl.get_laser(360)\n",
        "\n",
        "if x < 1:\n",
        "    TestControl.stop_robot()\n",
        "\n",
        "else:\n",
        "    TestControl.move_straight()\n",
        "\n",
        "print (\"The laser value received was: \", x)"
      ],
      "metadata": {
        "id": "NPZap3UnCOgC"
      },
      "execution_count": null,
      "outputs": []
    },
    {
      "cell_type": "markdown",
      "source": [
        "Exercise 3.2 / Loops / Conditional Statements and Loops"
      ],
      "metadata": {
        "id": "oICyWKClCaMt"
      }
    },
    {
      "cell_type": "code",
      "source": [
        "from robot_control_class import RobotControl\n",
        "\n",
        "robotcontrol = RobotControl()\n",
        "\n",
        "a = robotcontrol.get_laser(360)\n",
        "\n",
        "while a > 1:\n",
        "    robotcontrol.move_straight()\n",
        "    a = robotcontrol.get_laser(360)\n",
        "    print (\"Current distance to wall: %f\" % a)\n",
        "\n",
        "robotcontrol.stop_robot()\n",
        "\n",
        "print (\"Wall is at %f meters! Stop the robot!\" % a)"
      ],
      "metadata": {
        "id": "jTMWOE_VDwjX"
      },
      "execution_count": null,
      "outputs": []
    },
    {
      "cell_type": "markdown",
      "source": [
        "Exercise 3.3/Loops/Conditional Statements and Loops"
      ],
      "metadata": {
        "id": "xW7kOP0ADx9n"
      }
    },
    {
      "cell_type": "code",
      "source": [
        "from robot_control_class import RobotControl\n",
        "\n",
        "robotcontrol = RobotControl()\n",
        "\n",
        "l = robotcontrol.get_laser_full()\n",
        "\n",
        "maxim = 0\n",
        "\n",
        "for value in l:\n",
        "    if value > maxim:\n",
        "        maxim = value\n",
        "\n",
        "print (\"The higher value in the list is: \", maxim)"
      ],
      "metadata": {
        "id": "xx_N1tpREYh3"
      },
      "execution_count": null,
      "outputs": []
    },
    {
      "cell_type": "markdown",
      "source": [
        "Exercise 4.1/Method Parameters/Methods"
      ],
      "metadata": {
        "id": "DDukB-qzPRme"
      }
    },
    {
      "cell_type": "code",
      "source": [
        "from robot_control_class import RobotControl\n",
        "import time\n",
        "\n",
        "robotcontrol = RobotControl(robot_name=\"summit\")\n",
        "\n",
        "def move_x_seconds(secs):\n",
        "    robotcontrol.move_straight()\n",
        "    time.sleep(secs)\n",
        "    robotcontrol.stop_robot()\n",
        "\n",
        "\n",
        "move_x_seconds(5)"
      ],
      "metadata": {
        "id": "b2yW8S9lPbvR"
      },
      "execution_count": null,
      "outputs": []
    },
    {
      "cell_type": "markdown",
      "source": [
        "Exercise 4.2/Return Statement/Methods"
      ],
      "metadata": {
        "id": "zmjpn1P6PeVN"
      }
    },
    {
      "cell_type": "code",
      "source": [
        "from robot_control_class import RobotControl\n",
        "\n",
        "robotcontrol = RobotControl(robot_name=\"summit\")\n",
        "\n",
        "def get_laser_values(a,b,c):\n",
        "    r1 = robotcontrol.get_laser_summit(a)\n",
        "    r2 = robotcontrol.get_laser_summit(b)\n",
        "    r3 = robotcontrol.get_laser_summit(c)\n",
        "\n",
        "    return [r1, r2, r3]\n",
        "\n",
        "l = get_laser_values(0, 500, 1000)\n",
        "\n",
        "print (\"Reading 1: \", l[0])\n",
        "print (\"Reading 2: \", l[1])\n",
        "print (\"Reading 3: \", l[2])"
      ],
      "metadata": {
        "id": "96PnUDZ4QBMs"
      },
      "execution_count": null,
      "outputs": []
    },
    {
      "cell_type": "markdown",
      "source": [
        "Exercise 4.3/ Let's play some more with the robot!/Methods"
      ],
      "metadata": {
        "id": "VWh_wWp7QiHN"
      }
    },
    {
      "cell_type": "code",
      "source": [
        "from robot_control_class import RobotControl\n",
        "\n",
        "robotcontrol = RobotControl(robot_name=\"summit\")\n",
        "\n",
        "robotcontrol.move_straight_time(\"forward\", 0.3, 5)\n",
        "robotcontrol.turn(\"clockwise\", 0.3, 7)"
      ],
      "metadata": {
        "id": "nV7d0eMQQrL8"
      },
      "execution_count": null,
      "outputs": []
    },
    {
      "cell_type": "markdown",
      "source": [
        "Exercise 4.4/Let's play some more with the robot!/Methods"
      ],
      "metadata": {
        "id": "ytgN-N0AQtMk"
      }
    },
    {
      "cell_type": "code",
      "source": [
        "from robot_control_class import RobotControl\n",
        "\n",
        "robotcontrol = RobotControl(robot_name=\"summit\")\n",
        "\n",
        "robotcontrol.turn(\"counter-clockwise\", 0.3, 4)\n",
        "robotcontrol.move_straight_time(\"forward\", 0.3, 6)\n",
        "robotcontrol.turn(\"counter-clockwise\", 0.3, 4)\n",
        "robotcontrol.move_straight_time(\"forward\", 0.3, 7)"
      ],
      "metadata": {
        "id": "EJxCC3ErRPcG"
      },
      "execution_count": null,
      "outputs": []
    },
    {
      "cell_type": "markdown",
      "source": [
        "5.1/Calling a Class Method/Python Class & OOP"
      ],
      "metadata": {
        "id": "CkXao5ohS_Gq"
      }
    },
    {
      "cell_type": "code",
      "source": [
        "from robot_control_class import RobotControl\n",
        "\n",
        "class MoveRobot:\n",
        "    def __init__(self, motion, clockwise, speed, time):\n",
        "        self.robotcontrol = RobotControl(robot_name=\"summit\")\n",
        "        self.motion = motion\n",
        "        self.clockwise = clockwise\n",
        "        self.speed = speed\n",
        "        self.time = time\n",
        "        self.time_turn = 7.0 # This is an estimate time in which the robot will rotate 90 degrees\n",
        "\n",
        "    def do_square(self):\n",
        "\n",
        "        i = 0\n",
        "\n",
        "        while (i < 4):\n",
        "            self.move_straight()\n",
        "            self.turn()\n",
        "            i+=1\n",
        "\n",
        "    def move_straight(self):\n",
        "        self.robotcontrol.move_straight_time(self.motion, self.speed, self.time)\n",
        "\n",
        "    def turn(self):\n",
        "        self.robotcontrol.turn(self.clockwise, self.speed, self.time_turn)\n",
        "\n",
        "\n",
        "mr1 = MoveRobot('forward', 'clockwise', 0.3, 4)\n",
        "mr1.do_square()\n",
        "mr2 = MoveRobot('forward', 'clockwise', 0.3, 8)\n",
        "mr2.do_square()"
      ],
      "metadata": {
        "id": "JCLObBt8TPbv"
      },
      "execution_count": null,
      "outputs": []
    },
    {
      "cell_type": "markdown",
      "source": [
        "6.1/Micro Project"
      ],
      "metadata": {
        "id": "MJ88w2dRTS00"
      }
    },
    {
      "cell_type": "code",
      "source": [
        "#!/usr/bin/env python\n",
        "\n",
        "import rospy\n",
        "from geometry_msgs.msg import Twist, Point, Quaternion\n",
        "from sensor_msgs.msg import LaserScan\n",
        "from nav_msgs.msg import Odometry\n",
        "import tf\n",
        "from tf.transformations import euler_from_quaternion, quaternion_from_euler\n",
        "import time\n",
        "from math import radians, copysign, sqrt, pow, pi\n",
        "import PyKDL\n",
        "\n",
        "\n",
        "class RobotControl():\n",
        "\n",
        "    def __init__(self):\n",
        "        rospy.init_node('robot_control_node', anonymous=True)\n",
        "        self.vel_publisher = rospy.Publisher('/cmd_vel', Twist, queue_size=1)\n",
        "        self.summit_vel_publisher = rospy.Publisher('/summit_xl_control/cmd_vel', Twist, queue_size=1)\n",
        "        self.laser_subscriber = rospy.Subscriber(\n",
        "            '/kobuki/laser/scan', LaserScan, self.laser_callback)\n",
        "        self.summit_laser_subscriber = rospy.Subscriber(\n",
        "            '/hokuyo_base/scan', LaserScan, self.summit_laser_callback)\n",
        "        self.odom_sub = rospy.Subscriber ('/odom', Odometry, self.odom_callback)\n",
        "        self.cmd = Twist()\n",
        "        self.laser_msg = LaserScan()\n",
        "        self.summit_laser_msg = LaserScan()\n",
        "        self.roll = 0.0\n",
        "        self.pitch = 0.0\n",
        "        self.yaw = 0.0\n",
        "        self.ctrl_c = False\n",
        "        self.rate = rospy.Rate(10)\n",
        "        self.tf_listener = tf.TransformListener()\n",
        "        self.odom_frame = '/odom'\n",
        "        self.base_frame = '/base_link'\n",
        "        self.angular_tolerance = radians(2)\n",
        "        rospy.on_shutdown(self.shutdownhook)\n",
        "\n",
        "    def publish_once_in_cmd_vel(self):\n",
        "        \"\"\"\n",
        "        This is because publishing in topics sometimes fails the first time you publish.\n",
        "        In continuous publishing systems there is no big deal but in systems that publish only\n",
        "        once it IS very important.\n",
        "        \"\"\"\n",
        "        while not self.ctrl_c:\n",
        "            connections = self.vel_publisher.get_num_connections()\n",
        "            summit_connections = self.summit_vel_publisher.get_num_connections()\n",
        "            if connections > 0 or summit_connections > 0:\n",
        "                self.vel_publisher.publish(self.cmd)\n",
        "                self.summit_vel_publisher.publish(self.cmd)\n",
        "                #rospy.loginfo(\"Cmd Published\")\n",
        "                break\n",
        "            else:\n",
        "                self.rate.sleep()\n",
        "\n",
        "    def shutdownhook(self):\n",
        "        # works better than the rospy.is_shutdown()\n",
        "        self.ctrl_c = True\n",
        "\n",
        "    def laser_callback(self, msg):\n",
        "        self.laser_msg = msg\n",
        "\n",
        "    def summit_laser_callback(self, msg):\n",
        "        self.summit_laser_msg = msg\n",
        "\n",
        "    def odom_callback(self, msg):\n",
        "        orientation_q = msg.pose.pose.orientation\n",
        "        orientation_list = [orientation_q.x, orientation_q.y, orientation_q.z, orientation_q.w]\n",
        "        (self.roll, self.pitch, self.yaw) = euler_from_quaternion (orientation_list)\n",
        "\n",
        "    def get_laser(self, pos):\n",
        "        time.sleep(1)\n",
        "        return self.laser_msg.ranges[pos]\n",
        "\n",
        "    def get_laser_summit(self, pos):\n",
        "        time.sleep(1)\n",
        "        return self.summit_laser_msg.ranges[pos]\n",
        "\n",
        "    def get_front_laser(self):\n",
        "        time.sleep(1)\n",
        "        return self.laser_msg.ranges[360]\n",
        "\n",
        "    def get_laser_full(self):\n",
        "        time.sleep(1)\n",
        "        return self.laser_msg.ranges\n",
        "\n",
        "    def stop_robot(self):\n",
        "        #rospy.loginfo(\"shutdown time! Stop the robot\")\n",
        "        self.cmd.linear.x = 0.0\n",
        "        self.cmd.angular.z = 0.0\n",
        "        self.publish_once_in_cmd_vel()\n",
        "\n",
        "    def move_straight(self):\n",
        "\n",
        "        # Initilize velocities\n",
        "        self.cmd.linear.x = 0.5\n",
        "        self.cmd.linear.y = 0\n",
        "        self.cmd.linear.z = 0\n",
        "        self.cmd.angular.x = 0\n",
        "        self.cmd.angular.y = 0\n",
        "        self.cmd.angular.z = 0\n",
        "\n",
        "        # Publish the velocity\n",
        "        self.publish_once_in_cmd_vel()\n",
        "\n",
        "    def move_straight_time(self, motion, speed, time):\n",
        "\n",
        "        # Initilize velocities\n",
        "        self.cmd.linear.y = 0\n",
        "        self.cmd.linear.z = 0\n",
        "        self.cmd.angular.x = 0\n",
        "        self.cmd.angular.y = 0\n",
        "        self.cmd.angular.z = 0\n",
        "\n",
        "        if motion == \"forward\":\n",
        "            self.cmd.linear.x = speed\n",
        "        elif motion == \"backward\":\n",
        "            self.cmd.linear.x = - speed\n",
        "\n",
        "        i = 0\n",
        "        # loop to publish the velocity estimate, current_distance = velocity * (t1 - t0)\n",
        "        while (i <= time):\n",
        "\n",
        "            # Publish the velocity\n",
        "            self.vel_publisher.publish(self.cmd)\n",
        "            self.summit_vel_publisher.publish(self.cmd)\n",
        "            i += 0.1\n",
        "            self.rate.sleep()\n",
        "\n",
        "        # set velocity to zero to stop the robot\n",
        "        self.stop_robot()\n",
        "\n",
        "        s = \"Moved robot \" + motion + \" for \" + str(time) + \" seconds\"\n",
        "        return s\n",
        "\n",
        "\n",
        "    def turn(self, clockwise, speed, time):\n",
        "\n",
        "        # Initilize velocities\n",
        "        self.cmd.linear.x = 0\n",
        "        self.cmd.linear.y = 0\n",
        "        self.cmd.linear.z = 0\n",
        "        self.cmd.angular.x = 0\n",
        "        self.cmd.angular.y = 0\n",
        "\n",
        "        if clockwise == \"clockwise\":\n",
        "            self.cmd.angular.z = -speed\n",
        "        else:\n",
        "            self.cmd.angular.z = speed\n",
        "\n",
        "        i = 0\n",
        "        # loop to publish the velocity estimate, current_distance = velocity * (t1 - t0)\n",
        "\n",
        "        while (i <= time):\n",
        "\n",
        "            # Publish the velocity\n",
        "            self.vel_publisher.publish(self.cmd)\n",
        "            self.summit_vel_publisher.publish(self.cmd)\n",
        "            i += 0.1\n",
        "            self.rate.sleep()\n",
        "\n",
        "        # set velocity to zero to stop the robot\n",
        "        self.stop_robot()\n",
        "\n",
        "        s = \"Turned robot \" + clockwise + \" for \" + str(time) + \" seconds\"\n",
        "        return s\n",
        "\n",
        "    def get_odom(self):\n",
        "\n",
        "        # Get the current transform between the odom and base frames\n",
        "        tf_ok = 0\n",
        "        while tf_ok == 0 and not rospy.is_shutdown():\n",
        "            try:\n",
        "                self.tf_listener.waitForTransform('/base_link', '/odom', rospy.Time(), rospy.Duration(1.0))\n",
        "                tf_ok = 1\n",
        "            except (tf.Exception, tf.ConnectivityException, tf.LookupException):\n",
        "                pass\n",
        "\n",
        "        try:\n",
        "            (trans, rot)  = self.tf_listener.lookupTransform('odom', 'base_link', rospy.Time(0))\n",
        "        except (tf.Exception, tf.ConnectivityException, tf.LookupException):\n",
        "            rospy.loginfo(\"TF Exception\")\n",
        "            return\n",
        "\n",
        "        return (Point(*trans), self.quat_to_angle(Quaternion(*rot)))\n",
        "\n",
        "    def rotate(self, degrees):\n",
        "\n",
        "        position = Point()\n",
        "\n",
        "        # Get the current position\n",
        "        (position, rotation) = self.get_odom()\n",
        "\n",
        "        # Set the movement command to a rotation\n",
        "        if degrees > 0:\n",
        "            self.cmd.angular.z = 0.3\n",
        "        else:\n",
        "            self.cmd.angular.z = -0.3\n",
        "\n",
        "        # Track the last angle measured\n",
        "        last_angle = rotation\n",
        "\n",
        "        # Track how far we have turned\n",
        "        turn_angle = 0\n",
        "\n",
        "        goal_angle = radians(degrees)\n",
        "\n",
        "        # Begin the rotation\n",
        "        while abs(turn_angle + self.angular_tolerance) < abs(goal_angle) and not rospy.is_shutdown():\n",
        "            # Publish the Twist message and sleep 1 cycle\n",
        "            self.vel_publisher.publish(self.cmd)\n",
        "            self.rate.sleep()\n",
        "\n",
        "            # Get the current rotation.\n",
        "            (position, rotation) = self.get_odom()\n",
        "\n",
        "            # Compute the amount of rotation since the last lopp\n",
        "            delta_angle = self.normalize_angle(rotation - last_angle)\n",
        "\n",
        "            turn_angle += delta_angle\n",
        "            last_angle = rotation\n",
        "\n",
        "        self.stop_robot()\n",
        "\n",
        "    def quat_to_angle(self, quat):\n",
        "        rot = PyKDL.Rotation.Quaternion(quat.x, quat.y, quat.z, quat.w)\n",
        "        return rot.GetRPY()[2]\n",
        "\n",
        "    def normalize_angle(self, angle):\n",
        "        res = angle\n",
        "        while res > pi:\n",
        "            res -= 2.0 * pi\n",
        "        while res < -pi:\n",
        "            res += 2.0 * pi\n",
        "        return res\n",
        "\n",
        "\n",
        "if __name__ == '__main__':\n",
        "    #rospy.init_node('robot_control_node', anonymous=True)\n",
        "    robotcontrol_object = RobotControl()\n",
        "    try:\n",
        "        robotcontrol_object.move_straight()\n",
        "\n",
        "    except rospy.ROSInterruptException:\n",
        "        pass"
      ],
      "metadata": {
        "id": "OEJD3dRUaRrW"
      },
      "execution_count": null,
      "outputs": []
    }
  ]
}